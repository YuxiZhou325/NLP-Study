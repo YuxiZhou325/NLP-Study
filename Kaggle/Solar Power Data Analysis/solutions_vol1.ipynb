{
 "cells": [
  {
   "cell_type": "markdown",
   "source": [
    "<h1>Exercise for BayWa r.e. Junior Data Analyst</h1>\n",
    "\n",
    "> Candidate: Yuxi Zhou\n",
    "> Email: yxzhou325@gmail.com\n",
    "> Date: 09-03-2022\n"
   ],
   "metadata": {
    "collapsed": false
   }
  },
  {
   "cell_type": "markdown",
   "source": [
    "<h2>Task 1.1</h2>\n",
    "identify the percentage of missing data for each inverter in the column \"TOTAL_YIELD\""
   ],
   "metadata": {
    "collapsed": false
   }
  },
  {
   "cell_type": "code",
   "execution_count": null,
   "metadata": {
    "collapsed": true,
    "pycharm": {
     "is_executing": true
    }
   },
   "outputs": [],
   "source": [
    "# solution of task 1.1\n",
    "import pandas as pd\n",
    "\n",
    "# read csv data file with pandas\n",
    "df = pd.read_csv('G:\\JobApply\\BayWaRe\\Plant_1_Generation_Data.csv')\n",
    "\n",
    "# view the data frame\n",
    "print(df.head())\n",
    "\n",
    "# view TOTAL_YIELD column\n",
    "print(df.TOTAL_YIELD)\n",
    "\n",
    "# check if there is missing values in TOTAL_YIELD column\n",
    "print(df['TOTAL_YIELD'].isna().any())\n",
    "\n",
    "# view missing values in TOTAL_YIELD column\n",
    "print(df['TOTAL_YIELD'].isnull())\n",
    "\n",
    "\n"
   ]
  },
  {
   "cell_type": "code",
   "execution_count": null,
   "outputs": [],
   "source": [
    "# group the dataframe according to the inverter id\n",
    "grouped_df = df.groupby('SOURCE_KEY', as_index='False')\n",
    "\n",
    "# print(grouped_df.head())\n",
    "\n",
    "# grouped_df.to_csv('G:\\JobApply\\BayWaRe\\out.csv')\n",
    "\n",
    "# df['TOTAL_YIELD'].isnull() / df.groupby('SOURCE_KEY')['TOTAL_YIELD'].transform('sum')\n",
    "\n",
    "# calculate the total yield for each inverter\n",
    "# grouped_df['TOTAL_YIELD'].sum()\n",
    "\n",
    "# calculate the total rows for each inverter\n",
    "print(grouped_df['TOTAL_YIELD'].count())\n",
    "\n",
    "# calculate the % of missing data for each inverter\n",
    "null_data = 0\n",
    "for row in grouped_df['TOTAL_YIELD']:\n",
    "    if df['TOTAL_YIELD'].isnull().any():\n",
    "        null_data += 1\n",
    "    print(null_data)\n",
    "\n",
    "print(null_data / grouped_df['TOTAL_YIELD'].count())\n",
    "\n",
    "# df['TOTAL_YIELD'].isnull().count() / grouped_df['TOTAL_YIELD'].count()\n"
   ],
   "metadata": {
    "collapsed": false,
    "pycharm": {
     "name": "#%%\n",
     "is_executing": true
    }
   }
  }
 ],
 "metadata": {
  "kernelspec": {
   "display_name": "Python 3",
   "language": "python",
   "name": "python3"
  },
  "language_info": {
   "codemirror_mode": {
    "name": "ipython",
    "version": 2
   },
   "file_extension": ".py",
   "mimetype": "text/x-python",
   "name": "python",
   "nbconvert_exporter": "python",
   "pygments_lexer": "ipython2",
   "version": "2.7.6"
  }
 },
 "nbformat": 4,
 "nbformat_minor": 0
}