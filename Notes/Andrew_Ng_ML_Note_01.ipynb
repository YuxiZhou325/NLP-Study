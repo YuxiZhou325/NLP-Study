{
 "cells": [
  {
   "cell_type": "markdown",
   "metadata": {
    "collapsed": true,
    "pycharm": {
     "name": "#%% md\n"
    }
   },
   "source": [
    "<h1>Notes: Machine Learning by Andrew Ng</h1>\n",
    "\n",
    "> #### Author: Zhou Yuxi ####\n",
    "> #### Start Date: 2021-12-23 12:00:47 ####"
   ]
  },
  {
   "cell_type": "markdown",
   "source": [
    "<h2>Feature Scaling</h2>\n",
    "\n",
    "Feature Scaling can make gradient decent converge quickly\n",
    "\n",
    "Idea: Make sure features are on a **similar scale**\n",
    "\n",
    "Get every feature into approximately a $-1 \\le x_i \\le 1$ range\n",
    "\n"
   ],
   "metadata": {
    "collapsed": false
   }
  }
 ],
 "metadata": {
  "kernelspec": {
   "display_name": "Python 3",
   "language": "python",
   "name": "python3"
  },
  "language_info": {
   "codemirror_mode": {
    "name": "ipython",
    "version": 2
   },
   "file_extension": ".py",
   "mimetype": "text/x-python",
   "name": "python",
   "nbconvert_exporter": "python",
   "pygments_lexer": "ipython2",
   "version": "2.7.6"
  }
 },
 "nbformat": 4,
 "nbformat_minor": 0
}