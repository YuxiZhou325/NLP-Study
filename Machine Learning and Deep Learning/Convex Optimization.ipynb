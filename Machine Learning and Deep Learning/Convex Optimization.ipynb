{
 "cells": [
  {
   "cell_type": "markdown",
   "source": [
    "<h1>Convex Optimization</h1>\n",
    "\n",
    "\n",
    "<h2>Convex Function</h2>\n",
    "\n",
    "$\\forall x_1, x_2 \\epsilon S, \\forall \\theta \\epsilon [0,1], f(\\theta x_1 + (1-\\theta)x_2 )\\leq \\theta f(x_1) + (1 - \\theta)f(x_2) $"
   ],
   "metadata": {
    "collapsed": false
   }
  },
  {
   "cell_type": "markdown",
   "source": [
    "<h2>References</h2>\n",
    "\n",
    "\n",
    "- [Mathematical Formulas in Markdown](https://csrgxtu.github.io/2015/03/20/Writing-Mathematic-Fomulars-in-Markdown/)\n",
    "- [List of Logic Symbols](https://en.wikipedia.org/wiki/List_of_logic_symbols)\n",
    "-"
   ],
   "metadata": {
    "collapsed": false
   }
  }
 ],
 "metadata": {
  "kernelspec": {
   "display_name": "Python 3",
   "language": "python",
   "name": "python3"
  },
  "language_info": {
   "codemirror_mode": {
    "name": "ipython",
    "version": 2
   },
   "file_extension": ".py",
   "mimetype": "text/x-python",
   "name": "python",
   "nbconvert_exporter": "python",
   "pygments_lexer": "ipython2",
   "version": "2.7.6"
  }
 },
 "nbformat": 4,
 "nbformat_minor": 0
}