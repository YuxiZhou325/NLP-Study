{
 "cells": [
  {
   "cell_type": "markdown",
   "metadata": {
    "collapsed": true,
    "pycharm": {
     "name": "#%% md\n"
    }
   },
   "source": [
    "<h1>Decision Tree and Random Forest</h1>\n",
    "\n",
    "> Author: Yuxi Zhou\n",
    "> Start Date: 2022-05-12 18:46:08"
   ]
  },
  {
   "cell_type": "markdown",
   "source": [
    "<h2>Decision Tree and Variants</h2>"
   ],
   "metadata": {
    "collapsed": false
   }
  },
  {
   "cell_type": "markdown",
   "source": [
    "\n",
    "- Divide the input space into different regions, each with independent parameters\n",
    "- Inductive instance based learning algorithm\n",
    "- Generate a tree-shaped model of classification out of a given unordered training sample\n",
    "- Each non-leaf node in the tree records which feature is used to make a category determination, and each leaf node represents the final category determined.\n",
    "- The root node to each leaf node forms a path rule for classification.\n",
    "- When testing a new sample, one simply starts at the root node, tests at each branch node, and recursively moves along the corresponding branch into the subtree and tests again until one reaches the leaf node, where the category represented by that leaf node is the predicted category of the current test sample."
   ],
   "metadata": {
    "collapsed": false
   }
  },
  {
   "cell_type": "markdown",
   "source": [
    "\n",
    "Simpleness\n",
    "> Compared to other machine learning classification algorithms, decision tree classification algorithms are relatively simple and can be considered for construction **as long as the training sample set can be represented using feature vectors and categories**. The complexity of the predictive classification algorithm is only related to the **number of layers of the decision tree**, which is **linear**, and the data is processed efficiently, making it **suitable for real-time classification situations**."
   ],
   "metadata": {
    "collapsed": false
   }
  },
  {
   "cell_type": "markdown",
   "source": [],
   "metadata": {
    "collapsed": false
   }
  }
 ],
 "metadata": {
  "kernelspec": {
   "display_name": "Python 3",
   "language": "python",
   "name": "python3"
  },
  "language_info": {
   "codemirror_mode": {
    "name": "ipython",
    "version": 2
   },
   "file_extension": ".py",
   "mimetype": "text/x-python",
   "name": "python",
   "nbconvert_exporter": "python",
   "pygments_lexer": "ipython2",
   "version": "2.7.6"
  }
 },
 "nbformat": 4,
 "nbformat_minor": 0
}