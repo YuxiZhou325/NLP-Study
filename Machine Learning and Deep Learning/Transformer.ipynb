{
 "cells": [
  {
   "cell_type": "markdown",
   "source": [
    "<h1>Transformer</h1>\n",
    "\n",
    "> This is the Note for Transformer Mechanism\n",
    "> Author: Yuxi Zhou\n",
    "> Start Date: 22-02-2022 20:37:07"
   ],
   "metadata": {
    "collapsed": false
   }
  },
  {
   "cell_type": "markdown",
   "source": [
    "Transformer is firstly proposed in the paper [\"Attention is All You Need\"](https://arxiv.org/abs/1706.03762) by Google Brain team.\n",
    "\n",
    "Open-sourced codes:\n",
    "> [**Havard PyTorch Implementation**](https://nlp.seas.harvard.edu/2018/04/03/attention.html)\n",
    "> [**Tensor2Tensor TensorFlow Implementation**](https://github.com/tensorflow/tensor2tensor/blob/master/tensor2tensor/models/transformer.py)"
   ],
   "metadata": {
    "collapsed": false
   }
  },
  {
   "cell_type": "markdown",
   "source": [
    "<script src=\"webfont.js\"></script>\n",
    "<script src=\"../source\">\n",
    "<script src=\"underscore-min.js\"></script>\n",
    "<script src=\"sequence-diagram-min.js\"></script>\n",
    "\n",
    "'''flow {theme=\"hand\"}\n",
    "Input->Transformer: Nothing\n",
    "'''\n"
   ],
   "metadata": {
    "collapsed": false,
    "pycharm": {
     "name": "#%% md\n"
    }
   }
  }
 ],
 "metadata": {
  "kernelspec": {
   "display_name": "Python 3",
   "language": "python",
   "name": "python3"
  },
  "language_info": {
   "codemirror_mode": {
    "name": "ipython",
    "version": 2
   },
   "file_extension": ".py",
   "mimetype": "text/x-python",
   "name": "python",
   "nbconvert_exporter": "python",
   "pygments_lexer": "ipython2",
   "version": "2.7.6"
  }
 },
 "nbformat": 4,
 "nbformat_minor": 0
}