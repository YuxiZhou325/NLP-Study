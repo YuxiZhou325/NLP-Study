{
 "cells": [
  {
   "cell_type": "markdown",
   "source": [
    "<h1>Transformer</h1>\n",
    "\n",
    "> This is the Note for Transformer Mechanism\n",
    "> Author: Yuxi Zhou\n",
    "> Start Date: 22-02-2022 20:37:07"
   ],
   "metadata": {
    "collapsed": false
   }
  },
  {
   "cell_type": "markdown",
   "source": [
    "Transformer is firstly proposed in the paper [\"Attention is All You Need\"](https://arxiv.org/abs/1706.03762) by Google Brain team.\n",
    "\n",
    "Open-sourced codes:\n",
    "> [**Havard PyTorch Implementation**](https://nlp.seas.harvard.edu/2018/04/03/attention.html)\n",
    "> [**Tensor2Tensor TensorFlow Implementation**](https://github.com/tensorflow/tensor2tensor/blob/master/tensor2tensor/models/transformer.py)"
   ],
   "metadata": {
    "collapsed": false
   }
  },
  {
   "cell_type": "code",
   "execution_count": 3,
   "outputs": [
    {
     "data": {
      "text/plain": "Available line magics:\n%alias  %alias_magic  %autoawait  %autocall  %automagic  %autosave  %bookmark  %cd  %clear  %cls  %colors  %conda  %config  %connect_info  %copy  %ddir  %debug  %dhist  %dirs  %doctest_mode  %echo  %ed  %edit  %env  %gui  %hist  %history  %killbgscripts  %ldir  %less  %load  %load_ext  %loadpy  %logoff  %logon  %logstart  %logstate  %logstop  %ls  %lsmagic  %macro  %magic  %matplotlib  %mkdir  %more  %notebook  %page  %pastebin  %pdb  %pdef  %pdoc  %pfile  %pinfo  %pinfo2  %pip  %popd  %pprint  %precision  %prun  %psearch  %psource  %pushd  %pwd  %pycat  %pylab  %qtconsole  %quickref  %recall  %rehashx  %reload_ext  %ren  %rep  %rerun  %reset  %reset_selective  %rmdir  %run  %save  %sc  %set_env  %store  %sx  %system  %tb  %time  %timeit  %unalias  %unload_ext  %who  %who_ls  %whos  %xdel  %xmode\n\nAvailable cell magics:\n%%!  %%HTML  %%SVG  %%bash  %%capture  %%cmd  %%debug  %%file  %%html  %%javascript  %%js  %%latex  %%markdown  %%perl  %%prun  %%pypy  %%python  %%python2  %%python3  %%ruby  %%script  %%sh  %%svg  %%sx  %%system  %%time  %%timeit  %%writefile\n\nAutomagic is ON, % prefix IS NOT needed for line magics.",
      "application/json": {
       "line": {
        "automagic": "AutoMagics",
        "autocall": "AutoMagics",
        "alias_magic": "BasicMagics",
        "lsmagic": "BasicMagics",
        "magic": "BasicMagics",
        "page": "BasicMagics",
        "pprint": "BasicMagics",
        "colors": "BasicMagics",
        "xmode": "BasicMagics",
        "quickref": "BasicMagics",
        "doctest_mode": "BasicMagics",
        "gui": "BasicMagics",
        "precision": "BasicMagics",
        "notebook": "BasicMagics",
        "save": "CodeMagics",
        "pastebin": "CodeMagics",
        "loadpy": "CodeMagics",
        "load": "CodeMagics",
        "edit": "KernelMagics",
        "config": "ConfigMagics",
        "prun": "ExecutionMagics",
        "pdb": "ExecutionMagics",
        "debug": "ExecutionMagics",
        "tb": "ExecutionMagics",
        "run": "ExecutionMagics",
        "timeit": "ExecutionMagics",
        "time": "ExecutionMagics",
        "macro": "ExecutionMagics",
        "load_ext": "ExtensionMagics",
        "unload_ext": "ExtensionMagics",
        "reload_ext": "ExtensionMagics",
        "history": "HistoryMagics",
        "recall": "HistoryMagics",
        "rerun": "HistoryMagics",
        "logstart": "LoggingMagics",
        "logstop": "LoggingMagics",
        "logoff": "LoggingMagics",
        "logon": "LoggingMagics",
        "logstate": "LoggingMagics",
        "pinfo": "NamespaceMagics",
        "pinfo2": "NamespaceMagics",
        "pdef": "NamespaceMagics",
        "pdoc": "NamespaceMagics",
        "psource": "NamespaceMagics",
        "pfile": "NamespaceMagics",
        "psearch": "NamespaceMagics",
        "who_ls": "NamespaceMagics",
        "who": "NamespaceMagics",
        "whos": "NamespaceMagics",
        "reset": "NamespaceMagics",
        "reset_selective": "NamespaceMagics",
        "xdel": "NamespaceMagics",
        "alias": "OSMagics",
        "unalias": "OSMagics",
        "rehashx": "OSMagics",
        "pwd": "OSMagics",
        "cd": "OSMagics",
        "env": "OSMagics",
        "set_env": "OSMagics",
        "pushd": "OSMagics",
        "popd": "OSMagics",
        "dirs": "OSMagics",
        "dhist": "OSMagics",
        "sc": "OSMagics",
        "sx": "OSMagics",
        "system": "OSMagics",
        "bookmark": "OSMagics",
        "pycat": "OSMagics",
        "pip": "PackagingMagics",
        "conda": "PackagingMagics",
        "matplotlib": "PylabMagics",
        "pylab": "PylabMagics",
        "killbgscripts": "ScriptMagics",
        "autoawait": "AsyncMagics",
        "ed": "Other",
        "hist": "Other",
        "rep": "Other",
        "clear": "KernelMagics",
        "cls": "KernelMagics",
        "less": "KernelMagics",
        "more": "KernelMagics",
        "connect_info": "KernelMagics",
        "qtconsole": "KernelMagics",
        "autosave": "KernelMagics",
        "ls": "Other",
        "ddir": "Other",
        "ldir": "Other",
        "mkdir": "Other",
        "rmdir": "Other",
        "echo": "Other",
        "ren": "Other",
        "copy": "Other",
        "store": "StoreMagics"
       },
       "cell": {
        "js": "DisplayMagics",
        "javascript": "DisplayMagics",
        "latex": "DisplayMagics",
        "svg": "DisplayMagics",
        "html": "DisplayMagics",
        "markdown": "DisplayMagics",
        "prun": "ExecutionMagics",
        "debug": "ExecutionMagics",
        "timeit": "ExecutionMagics",
        "time": "ExecutionMagics",
        "capture": "ExecutionMagics",
        "sx": "OSMagics",
        "system": "OSMagics",
        "!": "OSMagics",
        "writefile": "OSMagics",
        "script": "ScriptMagics",
        "sh": "Other",
        "bash": "Other",
        "perl": "Other",
        "ruby": "Other",
        "python": "Other",
        "python2": "Other",
        "python3": "Other",
        "pypy": "Other",
        "cmd": "Other",
        "SVG": "Other",
        "HTML": "Other",
        "file": "Other"
       }
      }
     },
     "execution_count": 3,
     "metadata": {},
     "output_type": "execute_result"
    }
   ],
   "source": [
    "%lsmagic"
   ],
   "metadata": {
    "collapsed": false,
    "pycharm": {
     "name": "#%%\n"
    }
   }
  },
  {
   "cell_type": "markdown",
   "source": [
    "# Diagram\n",
    "\n",
    "\n",
    "<script src=\"G:/Algorithm Study/NLP/bower_components/bower-webfontloader/webfont.js\" />\n",
    "<script src=\"G:/Algorithm Study/NLP/bower_components/snap.svg/dist/snap.svg-min.js\" />\n",
    "<script src=\"G:/Algorithm Study/NLP/bower_components/underscore/underscore-min.js\" />\n",
    "<script src=\"G:/Algorithm Study/NLP/bower_components/js-sequence-diagrams/dist/sequence-diagram-min.js\" />\n",
    "\n",
    "<link href=\"G:/Algorithm Study/NLP/bower_components/js-sequence-diagrams/dist/sequence-diagram-min.css\" rel=\"stylesheet\" />\n",
    "\n",
    "<div id=\"diagram\">Diagram will be placed here</div>\n",
    "<script>\n",
    "  var d = Diagram.parse(\"A->B: Does something\");\n",
    "  var options = {theme: 'simple'};\n",
    "  d.drawSVG('diagram', options);\n",
    "</script>\n",
    "\n",
    "\n"
   ],
   "metadata": {
    "collapsed": false,
    "pycharm": {
     "name": "#%% md\n"
    }
   }
  }
 ],
 "metadata": {
  "kernelspec": {
   "display_name": "Python 3",
   "language": "python",
   "name": "python3"
  },
  "language_info": {
   "codemirror_mode": {
    "name": "ipython",
    "version": 2
   },
   "file_extension": ".py",
   "mimetype": "text/x-python",
   "name": "python",
   "nbconvert_exporter": "python",
   "pygments_lexer": "ipython2",
   "version": "2.7.6"
  }
 },
 "nbformat": 4,
 "nbformat_minor": 0
}