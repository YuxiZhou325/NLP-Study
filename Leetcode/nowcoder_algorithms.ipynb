{
 "cells": [
  {
   "cell_type": "markdown",
   "metadata": {
    "collapsed": true,
    "pycharm": {
     "name": "#%% md\n"
    }
   },
   "source": [
    "# Now Coder Algorithms Problems\n",
    "\n",
    "> Contents: Huawei Online Testing Preparation\n",
    "> Author: Yuxi Zhou\n",
    "> Last Modify Date: 29-09-2024 10:55:47"
   ]
  },
  {
   "cell_type": "markdown",
   "source": [
    "### HJ1 字符串最后一个单词的长度\n",
    "\n",
    "- *描述*: 计算字符串最后一个单词的长度，单词以空格隔开，字符串长度小于5000。（注：字符串末尾不以空格为结尾）\n",
    "- *输入描述*：输入一行，代表要计算的字符串，非空，长度小于5000。\n",
    "- *输出描述*：输出一个整数，表示输入字符串最后一个单词的长度。"
   ],
   "metadata": {
    "collapsed": false,
    "pycharm": {
     "name": "#%% md\n"
    }
   }
  },
  {
   "cell_type": "code",
   "execution_count": 1,
   "outputs": [
    {
     "name": "stdout",
     "output_type": "stream",
     "text": [
      "8\n"
     ]
    }
   ],
   "source": [
    "import sys\n",
    "str = input() # input the string\n",
    "arr = str.split(\" \")\n",
    "n = len(arr) - 1 # Get the index of last item\n",
    "print(len(arr[n]))"
   ],
   "metadata": {
    "collapsed": false,
    "pycharm": {
     "name": "#%%\n"
    }
   }
  },
  {
   "cell_type": "markdown",
   "source": [
    "### HJ2 计算某字符出现次数\n",
    "\n",
    "- *描述*: 写出一个程序，接受一个由字母、数字和空格组成的字符串，和一个字符，然后输出输入字符串中该字符的出现次数（不区分大小写字母） 数据范围： 1 ≤ n ≤ 1000\n",
    "- *输入描述*：第一行输入一个由字母、数字和空格组成的字符串，第二行输入一个字符（保证该字符不为空格）\n",
    "- *输出描述*：输出输入字符串中含有该字符的个数。（不区分大小写字母）"
   ],
   "metadata": {
    "collapsed": false
   }
  },
  {
   "cell_type": "code",
   "execution_count": 5,
   "outputs": [
    {
     "name": "stdout",
     "output_type": "stream",
     "text": [
      "3\n"
     ]
    }
   ],
   "source": [
    "import sys\n",
    "str = input().lower()\n",
    "target = input()\n",
    "print(str.count(target.lower()))"
   ],
   "metadata": {
    "collapsed": false,
    "pycharm": {
     "name": "#%%\n"
    }
   }
  },
  {
   "cell_type": "markdown",
   "source": [
    "### HJ3 随机数\n",
    "\n",
    "- *描述*: 生成随机整数，去重，从小到大排序再输出 数据范围： 1 ≤ n ≤ 1000， 输入数字大小 1 ≤ n ≤ 500\n",
    "- *输入描述*：第一行先输入随机整数的个数 N 。 接下来的 N 行每行输入一个整数，代表明明生成的随机数。 具体格式可以参考下面的\"示例\"\n",
    "- *输出描述*：输出多行，表示输入数据处理后的结果"
   ],
   "metadata": {
    "collapsed": false,
    "pycharm": {
     "name": "#%% md\n"
    }
   }
  },
  {
   "cell_type": "code",
   "execution_count": 20,
   "outputs": [
    {
     "name": "stdout",
     "output_type": "stream",
     "text": [
      "[41, 288, 331, 380, 452]\n"
     ]
    }
   ],
   "source": [
    "import sys\n",
    "import numpy as np\n",
    "\"\"\"\n",
    "n = input()\n",
    "list = []\n",
    "for i in range(int(n)):\n",
    "    list.append(int(input()))\n",
    "\"\"\"\n",
    "list = np.random.choice(int(input()), int(input()), replace=True)\n",
    "uniq_list = set(list)\n",
    "list = sorted(uniq_list)\n",
    "\n",
    "print(list)"
   ],
   "metadata": {
    "collapsed": false,
    "pycharm": {
     "name": "#%%\n"
    }
   }
  },
  {
   "cell_type": "markdown",
   "source": [
    "### HJ4 字符串分隔\n",
    "\n",
    "- *描述*: 输入一个字符串，按长度为8拆分每个输入字符串并输出；长度不为8整数倍的字符串在后面补充0数字，空字符串不处理\n",
    "- *输入描述*：连续输入字符串（每个字符串长度小于等于100）\n",
    "- *输出描述*：依次输出所有分割后的长度为8的新字符串"
   ],
   "metadata": {
    "collapsed": false
   }
  },
  {
   "cell_type": "code",
   "execution_count": 5,
   "outputs": [
    {
     "name": "stdout",
     "output_type": "stream",
     "text": [
      "12345678\n",
      "12345678\n",
      "88888888\n",
      "00012000\n"
     ]
    },
    {
     "data": {
      "text/plain": "'\\nformat格式：\\n{0：0<8s}表示输出0到8位字符，<表示左对齐，冒号后的0表示以0填充其他位置，s表示以字符串格式输出\\n\\n:0<8 右补零 左对齐 占符8位\\n'"
     },
     "execution_count": 5,
     "metadata": {},
     "output_type": "execute_result"
    }
   ],
   "source": [
    "str = input()\n",
    "for i in range(0, len(str), 8):\n",
    "    print(\"{0:0<8s}\".format(str[i:i+8]))\n",
    "\n",
    "'''\n",
    "format格式：\n",
    "{0：0<8s}表示输出0到8位字符，<表示左对齐，冒号后的0表示以0填充其他位置，s表示以字符串格式输出\n",
    "\n",
    ":0<8 右补零 左对齐 占符8位\n",
    "第一个0表示0~8，可省略\n",
    "'''"
   ],
   "metadata": {
    "collapsed": false,
    "pycharm": {
     "name": "#%%\n"
    }
   }
  },
  {
   "cell_type": "markdown",
   "source": [
    "### HJ5 进制转换\n",
    "\n",
    "- *描述*: 输入一个十六进制的数，输出该数值的十进制表示\n",
    "- *输入描述*：十六进制数值字符串\n",
    "- *输出描述*：该数值的十进制表示，不同测试用例用\\n隔开"
   ],
   "metadata": {
    "collapsed": false
   }
  },
  {
   "cell_type": "code",
   "execution_count": 7,
   "outputs": [
    {
     "name": "stdout",
     "output_type": "stream",
     "text": [
      "2325180\n"
     ]
    },
    {
     "data": {
      "text/plain": "\"\\npython将16进制转为10进制可以用int('hex型',16) 八进制转十进制int('八进制型',8) 八进制或十六进制或10进制装二进制直接调用 bin(任意进制)\\n##\\ncan use np.random.choice('0123456789abcdef') to generate random hexadecimal dta\\n\""
     },
     "execution_count": 7,
     "metadata": {},
     "output_type": "execute_result"
    }
   ],
   "source": [
    "#try:\n",
    "s = input()\n",
    "print(int(s,16))\n",
    "#except:\n",
    "#   break\n",
    "\n",
    "'''\n",
    "python将16进制转为10进制可以用int('hex型',16) 八进制转十进制int('八进制型',8) 八进制或十六进制或10进制装二进制直接调用 bin(任意进制)\n",
    "##\n",
    "can use np.random.choice('0123456789abcdef') to generate random hexadecimal dta\n",
    "'''"
   ],
   "metadata": {
    "collapsed": false,
    "pycharm": {
     "name": "#%%\n"
    }
   }
  },
  {
   "cell_type": "markdown",
   "source": [
    "### HJ6 分解质因数\n",
    "\n",
    "- *描述*: 输入一个正整数，按照从小到大的顺序输出其所有质因数（包含重复）\n",
    "- *输入描述*：正整数\n",
    "- *输出描述*：其所有质因数按从小到大顺序 空格隔开"
   ],
   "metadata": {
    "collapsed": false
   }
  },
  {
   "cell_type": "code",
   "execution_count": 13,
   "outputs": [
    {
     "name": "stdout",
     "output_type": "stream",
     "text": [
      "Input data (i.e. \"1\") has no prime factor\n"
     ]
    }
   ],
   "source": [
    "# Prime Factorisation\n",
    "# A prime number is a natural number greater than 1 that has no positive divisors other than 1 and itself. In simpler terms, a prime number can only be divided evenly (without leaving a remainder) by 1 and the number itself.\n",
    "# i.e. 2, 3, 5, 7, 11, 13, 17, 19, 23, 29\n",
    "\n",
    "import math\n",
    "n = int(input())\n",
    "for i in range(2, int(math.sqrt(n))+1):\n",
    "    while n % i ==0:\n",
    "        print(i, end=' ')\n",
    "        n = n // i  # update n (int)\n",
    "if n >= 2:\n",
    "    print(n)\n",
    "else:\n",
    "    print('Input data (i.e. \"1\") has no prime factor')"
   ],
   "metadata": {
    "collapsed": false,
    "pycharm": {
     "name": "#%%\n"
    }
   }
  },
  {
   "cell_type": "markdown",
   "source": [
    "### HJ7 取近似值\n",
    "\n",
    "- *描述*: 输入一个正浮点数值，输出该数值的近似整数值，四舍五入\n",
    "- *输入描述*：正浮点数值\n",
    "- *输出描述*：其近似整数值"
   ],
   "metadata": {
    "collapsed": false
   }
  },
  {
   "cell_type": "code",
   "execution_count": 5,
   "outputs": [
    {
     "name": "stdout",
     "output_type": "stream",
     "text": [
      "Input Data is not float\n"
     ]
    }
   ],
   "source": [
    "#思路1\n",
    "#n = float(input())\n",
    "#if n- int(n) >= 0.5:\n",
    "#    print(int(n)+1)\n",
    "#else:\n",
    "#    print(int(n))\n",
    "\n",
    "#思路2\n",
    "# from math import ceil,floor\n",
    "# def ceilNumber(n):\n",
    "#     a = ceil(n)-n\n",
    "#     if (a<=0.5):\n",
    "#         return ceil(n)\n",
    "#     return floor(n)\n",
    "# b = float(input())\n",
    "# print(ceilNumber(b))\n",
    "\n",
    "\n",
    "#思路3\n",
    "# def ceilNumber(n):\n",
    "#     a = int(n+0.5)\n",
    "#     return a\n",
    "# b = float(input())\n",
    "# print(ceilNumber(b))\n",
    "\n",
    "#思路4\n",
    "while True:\n",
    "    user_input = input(\"Enter a float data (or type 'exit' to quit): \")\n",
    "    if user_input == 'exit':\n",
    "        print(\"Exiting the program.\")\n",
    "        break\n",
    "    try:\n",
    "        n = float(user_input)\n",
    "        y = lambda x : int(x+0.5)\n",
    "        print(y(n))\n",
    "        break\n",
    "    except ValueError:\n",
    "        print(\"Input Data is not float\")\n",
    "        break"
   ],
   "metadata": {
    "collapsed": false,
    "pycharm": {
     "name": "#%%\n"
    }
   }
  },
  {
   "cell_type": "markdown",
   "source": [
    "### HJ8 合并表记录\n",
    "\n",
    "- *描述*: 数据表包含表索引index和数值value（int范围的正整数），请对索引相同的记录进行合并，即将相同索引的数值进行求和运算，输出按照index值升序进行输出。\n",
    "- *输入描述*：先输入键值对的个数n（1 <= n <= 500）， 接下来n行每行输入成对的index和value值，以空格隔开\n",
    "- *输出描述*：输出合并后的键值对（多行）"
   ],
   "metadata": {
    "collapsed": false
   }
  },
  {
   "cell_type": "code",
   "execution_count": 16,
   "outputs": [
    {
     "name": "stdout",
     "output_type": "stream",
     "text": [
      "0 3\n",
      "1 2\n",
      "3 4\n"
     ]
    }
   ],
   "source": [
    "n = int(input(\"how many lines\"))\n",
    "dic = {}\n",
    "\n",
    "# idea: 动态建构字典\n",
    "for i in range(n):\n",
    "    line = input(\"index\").split()\n",
    "    key = int(line[0])\n",
    "    value = int(line[1])\n",
    "    dic[key] = dic.get(key, 0) + value  # 累积key所对应的value\n",
    "\n",
    "for each in sorted(dic):  # 最后的键值对按照升值排序\n",
    "    print(each, dic[each])"
   ],
   "metadata": {
    "collapsed": false,
    "pycharm": {
     "name": "#%%\n"
    }
   }
  },
  {
   "cell_type": "markdown",
   "source": [
    "### HJ9 提取不重复的整数\n",
    "\n",
    "- *描述*: 输入一个int型整数， 按照从右向左的阅读顺序，返回不含重复数字的新整数，并保证输入的整数最后一位不是0。\n",
    "- *输入描述*：int型整数\n",
    "- *输出描述*：从右向左的阅读顺序，返回不含重复数字的新整数"
   ],
   "metadata": {
    "collapsed": false
   }
  },
  {
   "cell_type": "code",
   "execution_count": 1,
   "outputs": [
    {
     "name": "stdout",
     "output_type": "stream",
     "text": [
      "37689"
     ]
    }
   ],
   "source": [
    "list = list(input()[::-1])\n",
    "res = []\n",
    "for i in list:\n",
    "    if i in res:\n",
    "        continue\n",
    "\n",
    "    else:\n",
    "        res.append(i)\n",
    "        print(i, end='')"
   ],
   "metadata": {
    "collapsed": false,
    "pycharm": {
     "name": "#%%\n"
    }
   }
  },
  {
   "cell_type": "markdown",
   "source": [
    "### HJ10 字符个数统计\n",
    "\n",
    "- *描述*: 计算字符串中含有的不同字符的个数，字符在ASCII码范围内，换行表示结束符，不算在字符里，多个相同字符只计算一次\n",
    "- *输入描述*：一行没有空格的字符串\n",
    "- *输出描述*：字符串的字符种数"
   ],
   "metadata": {
    "collapsed": false
   }
  },
  {
   "cell_type": "code",
   "execution_count": 8,
   "outputs": [
    {
     "name": "stdout",
     "output_type": "stream",
     "text": [
      "3\n"
     ]
    }
   ],
   "source": [
    "print(len(set(input().replace('\\n',''))))\n",
    "\n",
    "# print(len(set(map(lambda x: x, input().replace('\\n','')))))"
   ],
   "metadata": {
    "collapsed": false,
    "pycharm": {
     "name": "#%%\n"
    }
   }
  },
  {
   "cell_type": "markdown",
   "source": [
    "### HJ11 数字颠倒\n",
    "\n",
    "- *描述*: 输入一个整数，将这个整数以字符串形式逆序输出，不考虑负数，逆序可含0开头\n",
    "- *输入描述*：一个int整数\n",
    "- *输出描述*：字符串形式逆序"
   ],
   "metadata": {
    "collapsed": false
   }
  },
  {
   "cell_type": "code",
   "execution_count": 9,
   "outputs": [
    {
     "name": "stdout",
     "output_type": "stream",
     "text": [
      "0006151\n"
     ]
    }
   ],
   "source": [
    "print(input()[::-1])\n",
    "\n",
    "# slicing technique to reverse a sequence(list or string)\n",
    "# grammar: [start, end, step], when step is -1 means reverse, when step is 2 means [1,3,5] for [1,2,3,4,5]"
   ],
   "metadata": {
    "collapsed": false,
    "pycharm": {
     "name": "#%%\n"
    }
   }
  },
  {
   "cell_type": "code",
   "execution_count": null,
   "outputs": [],
   "source": [
    "while True:\n",
    "    user_input = int(input(\"Enter an integer (or type 'exit' to quit): \"))\n",
    "    if user_input.lower() == 'exit':\n",
    "        print(\"Exiting the program.\")\n",
    "        break\n",
    "    try:\n",
    "\n",
    "        str = user_input\n",
    "    except ValueError:\n",
    "        print(\"Input Data is not integer\")\n",
    "        break"
   ],
   "metadata": {
    "collapsed": false,
    "pycharm": {
     "name": "#%%\n"
    }
   }
  },
  {
   "cell_type": "markdown",
   "source": [
    "### HJ12 字符串反转\n",
    "\n",
    "- *描述*: 一个只包含小写字母的字符串，然后输出该字符串反转后的字符串\n",
    "- *输入描述*：一行小写字母字符串\n",
    "- *输出描述*：该字符串反转后的字符串"
   ],
   "metadata": {
    "collapsed": false
   }
  },
  {
   "cell_type": "code",
   "execution_count": 10,
   "outputs": [
    {
     "name": "stdout",
     "output_type": "stream",
     "text": [
      "dcba\n"
     ]
    }
   ],
   "source": [
    "print(input()[::-1])"
   ],
   "metadata": {
    "collapsed": false,
    "pycharm": {
     "name": "#%%\n"
    }
   }
  },
  {
   "cell_type": "markdown",
   "source": [
    "### HJ13 句子逆序\n",
    "\n",
    "- *描述*: 将一个英文语句以单词为单位逆序排放，所有单词之间用一个空格隔开，不含其他字符\n",
    "- *输入描述*：英文语句，单词用空格隔开，只包含空格和字母（注意有多组输入的时候要用while True）\n",
    "- *输出描述*：逆序的句子"
   ],
   "metadata": {
    "collapsed": false
   }
  },
  {
   "cell_type": "code",
   "execution_count": 11,
   "outputs": [
    {
     "name": "stdout",
     "output_type": "stream",
     "text": [
      "boy a am I "
     ]
    }
   ],
   "source": [
    "str = input().split()\n",
    "res = str[::-1]\n",
    "for i in res:\n",
    "    print(i, end=\" \")"
   ],
   "metadata": {
    "collapsed": false,
    "pycharm": {
     "name": "#%%\n"
    }
   }
  },
  {
   "cell_type": "markdown",
   "source": [
    "### HJ14 字符串排序\n",
    "\n",
    "- *描述*: 给定n个字符串，请对n个字符串按照字母顺序排列\n",
    "- *输入描述*：输入第一行是一个正整数n，下面n行是n个字符串，只包含大小写字母\n",
    "- *输出描述*：结果输出n行，按字母顺序排列的字符串"
   ],
   "metadata": {
    "collapsed": false
   }
  },
  {
   "cell_type": "code",
   "execution_count": 13,
   "outputs": [
    {
     "name": "stdout",
     "output_type": "stream",
     "text": [
      "apple\n",
      "future\n",
      "zero\n"
     ]
    }
   ],
   "source": [
    "n = int(input(\"Please determine how many strings: \"))\n",
    "str = []\n",
    "for i in range(n):\n",
    "    str.append(input())\n",
    "print('\\n'.join(sorted(str)))"
   ],
   "metadata": {
    "collapsed": false,
    "pycharm": {
     "name": "#%%\n"
    }
   }
  },
  {
   "cell_type": "markdown",
   "source": [
    "### HJ15 求int型正整数在内存中存储时1的个数\n",
    "\n",
    "- *描述*: 输入一个int型正整数，计算出该int型数据在内存中存储时1的个数\n",
    "- *输入描述*：int型正整数\n",
    "- *输出描述*：这个数型转换成二进制后，输出其中1的个数"
   ],
   "metadata": {
    "collapsed": false
   }
  },
  {
   "cell_type": "code",
   "execution_count": 1,
   "outputs": [
    {
     "name": "stdout",
     "output_type": "stream",
     "text": [
      "2\n"
     ]
    }
   ],
   "source": [
    "num = int(input(\"Please enter an integer: \"))\n",
    "print(bin(num).count(\"1\"))"
   ],
   "metadata": {
    "collapsed": false,
    "pycharm": {
     "name": "#%%\n"
    }
   }
  },
  {
   "cell_type": "markdown",
   "source": [
    "### HJ16 背包问题\n",
    "\n",
    "> [题解](https://www.nowcoder.com/practice/f9c6f980eeec43ef85be20755ddbeaf4?tpId=37&rp=1&ru=%2Fexam%2Foj%2Fta&qru=%2Fexam%2Foj%2Fta&sourceUrl=%2Fexam%2Foj%2Fta%3FtpId%3D37&difficulty=&judgeStatus=&tags=&title=&gioEnter=menu)"
   ],
   "metadata": {
    "collapsed": false
   }
  },
  {
   "cell_type": "markdown",
   "source": [
    "### HJ17 坐标移动\n",
    "\n",
    "- *描述*: 开发一个坐标计算工具， A表示向左移动，D表示向右移动，W表示向上移动，S表示向下移动。从（0,0）点开始移动，从输入字符串里面读取一些坐标，并将最终输入结果输出到输出文件里面。\n",
    "- *输入描述*：合法坐标为A(或者D或者W或者S) + 数字（两位以内）坐标之间以;分隔。非法坐标点需要进行丢弃。如AA10;  A1A;  $%$;  YAD; 等。\n",
    "- *输出描述*：最终坐标，以逗号分隔"
   ],
   "metadata": {
    "collapsed": false
   }
  },
  {
   "cell_type": "code",
   "execution_count": 2,
   "outputs": [
    {
     "name": "stdout",
     "output_type": "stream",
     "text": [
      "-20,0\n"
     ]
    }
   ],
   "source": [
    "input_list = input().split(';')\n",
    "initial = [0,0]\n",
    "\n",
    "for item in input_list:\n",
    "    if not 2 <= len(item) <= 3:\n",
    "        continue\n",
    "\n",
    "    try:\n",
    "        direction = item[0]\n",
    "        step = int(item[1:])\n",
    "        if direction in ['A', 'D', 'W', 'S']:\n",
    "            if 0 <= step <= 99:\n",
    "                if direction == 'A':\n",
    "                    initial[0] -= step\n",
    "                elif direction == 'D':\n",
    "                    initial[0] += step\n",
    "                elif direction == 'S':\n",
    "                    initial[1] -= step\n",
    "                elif direction == 'W':\n",
    "                    initial[1] += step\n",
    "    except:\n",
    "        continue\n",
    "\n",
    "print(str(initial[0]) + ',' + str(initial[1]))"
   ],
   "metadata": {
    "collapsed": false,
    "pycharm": {
     "name": "#%%\n"
    }
   }
  },
  {
   "cell_type": "markdown",
   "source": [
    "### HJ18 识别有效的IP地址和掩码并进行分类统计\n",
    "\n",
    "- *描述*: 请解析IP地址和对应的掩码，进行分类识别。要求按照A/B/C/D/E类地址归类，不合法的地址和掩码单独归类。所有的IP地址划分为 A,B,C,D,E五类\n",
    "A类地址从1.0.0.0到126.255.255.255;\n",
    "B类地址从128.0.0.0到191.255.255.255;\n",
    "C类地址从192.0.0.0到223.255.255.255;\n",
    "D类地址从224.0.0.0到239.255.255.255;\n",
    "E类地址从240.0.0.0到255.255.255.255;\n",
    "私网IP范围是：\n",
    "从10.0.0.0到10.255.255.255\n",
    "从172.16.0.0到172.31.255.255\n",
    "从192.168.0.0到192.168.255.255\n",
    "- *输入描述*：多行字符串。每行一个IP地址和掩码，用~隔开。\n",
    "- *输出描述*：统计A、B、C、D、E、错误IP地址或错误掩码、私有IP的个数，之间以空格隔开。"
   ],
   "metadata": {
    "collapsed": false
   }
  },
  {
   "cell_type": "code",
   "execution_count": 4,
   "outputs": [
    {
     "name": "stdout",
     "output_type": "stream",
     "text": [
      "1 0 1 0 0 2 1 "
     ]
    }
   ],
   "source": [
    "ipClass2num = {\n",
    "    'A':0,\n",
    "    'B':0,\n",
    "    'C':0,\n",
    "    'D':0,\n",
    "    'E':0,\n",
    "    'ERROR':0,\n",
    "    'PRIVATE':0,\n",
    "}\n",
    "# 私有IP地址和A,B,C,D,E类地址是不冲突的，也就是说需要同时+1\n",
    "def check_ip(ip:str):\n",
    "    ip_bit = ip.split('.')\n",
    "    if len(ip_bit) != 4 or '' in ip_bit:  #ip 的长度为4 且每一位不为空\n",
    "        return False\n",
    "    for i in ip_bit:\n",
    "        if int(i)<0 or int(i) >255:   #检查Ip每一个10位的值范围为0~255\n",
    "            return False\n",
    "    return True\n",
    "def check_mask(mask:str):\n",
    "    if not check_ip(mask):\n",
    "        return False\n",
    "    if mask == '255.255.255.255' or mask == '0.0.0.0':\n",
    "        return False\n",
    "    mask_list = mask.split('.')\n",
    "    if len(mask_list) != 4:\n",
    "        return False\n",
    "    mask_bit = []\n",
    "    for i in mask_list:#小数点隔开的每一数字段\n",
    "        i = bin(int(i))#每一数字段转换为每一段的二进制数字段\n",
    "        i = i[2:] #从每一段的二进制数字段的第三个数开始，因为前面有两个ob\n",
    "        mask_bit.append(i.zfill(8)) #.zfill:返回指定长度的字符串，原字符串右对齐，前面填充0\n",
    "    whole_mask = ''.join(mask_bit)\n",
    "#     print(whole_mask)\n",
    "    whole0_find = whole_mask.find(\"0\")#查0从哪里开始\n",
    "    whole1_rfind = whole_mask.rfind(\"1\")#查1在哪里结束\n",
    "    if whole1_rfind+1 == whole0_find:#两者位置差1位为正确\n",
    "        return True\n",
    "    else:\n",
    "        return False\n",
    "def check_private_ip(ip:str):\n",
    "    # 三类私网\n",
    "    ip_list = ip.split('.')\n",
    "    if ip_list[0] == '10': return True\n",
    "    if ip_list[0] == '172' and 16<=int(ip_list[1])<=31: return True\n",
    "    if ip_list[0] == '192' and ip_list[1] == '168': return True\n",
    "    return False\n",
    "while True:\n",
    "    try:\n",
    "        s = input()\n",
    "        ip = s.split('~')[0]\n",
    "        mask = s.split('~')[1]\n",
    "        if check_ip(ip):\n",
    "            first = int(ip.split('.')[0])\n",
    "            if first==127 or first==0:\n",
    "                # 若不这样写，当类似于【0.*.*.*】和【127.*.*.*】的IP地址的子网掩码错误时，会额外计数\n",
    "                continue\n",
    "            if check_mask(mask):\n",
    "                if check_private_ip(ip):\n",
    "                    ipClass2num['PRIVATE'] += 1\n",
    "                if 0<first<127:\n",
    "                    ipClass2num['A'] += 1\n",
    "                elif 127<first<=191:\n",
    "                    ipClass2num['B'] += 1\n",
    "                elif 192<=first<=223:\n",
    "                    ipClass2num['C'] += 1\n",
    "                elif 224<=first<=239:\n",
    "                    ipClass2num['D'] += 1\n",
    "                elif 240<=first<=255:\n",
    "                    ipClass2num['E'] += 1\n",
    "            else:\n",
    "                ipClass2num['ERROR'] += 1\n",
    "        else:\n",
    "            ipClass2num['ERROR'] += 1\n",
    "    except:\n",
    "        break\n",
    "for v in ipClass2num.values():\n",
    "    print(v,end=(' '))"
   ],
   "metadata": {
    "collapsed": false,
    "pycharm": {
     "name": "#%%\n"
    }
   }
  },
  {
   "cell_type": "markdown",
   "source": [
    "### HJ19 记录错误\n",
    "\n",
    "> [题解](https://www.nowcoder.com/practice/2baa6aba39214d6ea91a2e03dff3fbeb?tpId=37&rp=1&ru=%2Fexam%2Foj%2Fta&qru=%2Fexam%2Foj%2Fta&sourceUrl=%2Fexam%2Foj%2Fta%3FtpId%3D37&difficulty=&judgeStatus=&tags=&title=&gioEnter=menu)"
   ],
   "metadata": {
    "collapsed": false
   }
  },
  {
   "cell_type": "code",
   "execution_count": null,
   "outputs": [],
   "source": [
    "l = []\n",
    "ll = []\n",
    "while 1:\n",
    "    try:\n",
    "        s = input().split('\\\\')[-1]\n",
    "        data = s.split(' ')[0][-16:] + ' ' + s.split(' ')[1]\n",
    "        if data not in l:\n",
    "            l.append(data)\n",
    "            ll.append(1)\n",
    "        else:\n",
    "            ll[l.index(data)] += 1\n",
    "    except:\n",
    "        break\n",
    "\n",
    "for i in range(len(l[-8:])):\n",
    "    print(l[-8:][i], ll[-8:][i])"
   ],
   "metadata": {
    "collapsed": false,
    "pycharm": {
     "name": "#%%\n"
    }
   }
  },
  {
   "cell_type": "markdown",
   "source": [
    "### HJ20 密码验证是否合法（正则）\n",
    "\n",
    "- *描述*: 密码要求:\n",
    "1.长度超过8位\n",
    "2.包括大小写字母.数字.其它符号,以上四种至少三种\n",
    "3.不能有长度大于2的包含公共元素的子串重复 （注：其他符号不含空格或换行）\n",
    "- *输入描述*：一组字符串。\n",
    "- *输出描述*：如果符合要求输出：OK，否则输出NG"
   ],
   "metadata": {
    "collapsed": false
   }
  },
  {
   "cell_type": "code",
   "execution_count": 4,
   "outputs": [],
   "source": [
    "def check(s):\n",
    "    if len(s) <= 8:\n",
    "        return 0\n",
    "    a, b, c, d = 0, 0, 0, 0\n",
    "    for item in s:\n",
    "        if ord('a') <= ord(item) <= ord('z'):\n",
    "            a = 1\n",
    "        elif ord('A') <= ord(item) <= ord('Z'):\n",
    "            b = 1\n",
    "        elif ord('0') <= ord(item) <= ord('9'):\n",
    "            c = 1\n",
    "        else:\n",
    "            d = 1\n",
    "    if a + b + c + d < 3:\n",
    "        return 0\n",
    "    for i in range(len(s)-3):\n",
    "        if len(s.split(s[i:i+3])) >= 3:\n",
    "            return 0\n",
    "    return 1\n",
    "\n",
    "while 1:\n",
    "    try:\n",
    "        print('OK' if check(input()) else 'NG')\n",
    "    except:\n",
    "        break\n"
   ],
   "metadata": {
    "collapsed": false,
    "pycharm": {
     "name": "#%%\n"
    }
   }
  },
  {
   "cell_type": "markdown",
   "source": [
    "### HJ21 密码变换\n",
    "\n",
    "- *描述*: 某种密码变换算法，九键字母与数字的兑换，小写字母兑换九键数字，大写字母变小写再往后移动一位，数字和其他符号不做变化\n",
    "- *输入描述*：一段字符串。\n",
    "- *输出描述*：密码变换后的字符串"
   ],
   "metadata": {
    "collapsed": false
   }
  },
  {
   "cell_type": "code",
   "execution_count": 13,
   "outputs": [
    {
     "name": "stdout",
     "output_type": "stream",
     "text": [
      "{'a': '2', 'b': '2', 'c': '2', 'd': '3', 'e': '3', 'f': '3', 'g': '4', 'h': '4', 'i': '4', 'j': '5', 'k': '5', 'l': '5', 'm': '6', 'n': '6', 'o': '6', 'p': '7', 'q': '7', 'r': '7', 's': '7', 't': '8', 'u': '8', 'v': '8', 'w': '9', 'x': '9', 'y': '9', 'z': '9', 'A': 'b', 'B': 'c', 'C': 'd', 'D': 'e', 'E': 'f', 'F': 'g', 'G': 'h', 'H': 'i', 'I': 'j', 'J': 'k', 'K': 'l', 'L': 'm', 'M': 'n', 'N': 'o', 'O': 'p', 'P': 'q', 'Q': 'r', 'R': 's', 'S': 't', 'T': 'u', 'U': 'v', 'V': 'w', 'W': 'x', 'X': 'y', 'Y': 'z', 'Z': 'a'}\n",
      "Original Password:  zyxwan\n",
      "Converted Password:  999926\n"
     ]
    }
   ],
   "source": [
    "pw = input()\n",
    "alpha_mapping = {}\n",
    "alpha_mapping.update(dict.fromkeys(['a', 'b', 'c'], 2))\n",
    "alpha_mapping.update(dict.fromkeys(['d', 'e', 'f'], 3))\n",
    "alpha_mapping.update(dict.fromkeys(['g', 'h', 'i'], 4))\n",
    "alpha_mapping.update(dict.fromkeys(['j', 'k', 'l'], 5))\n",
    "alpha_mapping.update(dict.fromkeys(['m', 'n', 'o'], 6))\n",
    "alpha_mapping.update(dict.fromkeys(['p', 'q', 'r', 's'], 7))\n",
    "alpha_mapping.update(dict.fromkeys(['t', 'u', 'v'], 8))\n",
    "alpha_mapping.update(dict.fromkeys(['w', 'x', 'y', 'z'], 9))\n",
    "\n",
    "# print(alpha_mapping)\n",
    "# pw_alph_to_num = [alpha_mapping[char] for char in pw]\n",
    "\n",
    "# Function to map uppercase characters to lowercase incremented by 1 (Z wraps to 'a')\n",
    "def map_uppercase(char):\n",
    "    if char == 'Z':\n",
    "        return 'a'  # Wrap Z to 'a'\n",
    "    else:\n",
    "        return chr(ord(char.lower()) + 1)  # Convert to lowercase and increment Unicode\n",
    "\n",
    "# Creating a combined mapping for both lowercase and uppercase characters\n",
    "full_mapping = {}\n",
    "\n",
    "# Adding lowercase mappings\n",
    "full_mapping.update(alpha_mapping)\n",
    "full_mapping.update({key: str(value) for key, value in alpha_mapping.items()})\n",
    "\n",
    "# Adding uppercase mappings\n",
    "for char in range(ord('A'), ord('Z') + 1):\n",
    "    full_mapping[chr(char)] = map_uppercase(chr(char))\n",
    "\n",
    "print(full_mapping)\n",
    "\n",
    "#lower_ord_increment = {chr(i): chr(ord(chr(i).lower()) + 1) for i in range(ord('A'), ord('Z') + 1)}\n",
    "\n",
    "#pw_lower_ord_increment = [lower_ord_increment[char] for char in pw_alph_to_num]\n",
    "\n",
    "# Function to apply the full mapping on an input string\n",
    "def apply_mapping(input_string):\n",
    "    # Use list comprehension to replace each character using the full mapping\n",
    "    mapped_result = ''.join(full_mapping.get(char, char) for char in input_string)\n",
    "    return mapped_result\n",
    "\n",
    "print(\"Original Password: \", pw)\n",
    "mapped_str = apply_mapping(pw)\n",
    "\n",
    "print(\"Converted Password: \", mapped_str)"
   ],
   "metadata": {
    "collapsed": false,
    "pycharm": {
     "name": "#%%\n"
    }
   }
  },
  {
   "cell_type": "markdown",
   "source": [
    "### HJ22 汽水瓶\n",
    "\n",
    "- *描述*: 某商店规定：三个空汽水瓶可以换一瓶汽水，允许向老板借空汽水瓶（但是必须要归还）。手上有n个空汽水瓶，想知道自己最多可以喝到多少瓶汽水。\n",
    "- *输入样例*：10\n",
    "- *输出描述*：5\n",
    "- *示例说明*：用九个空瓶换三瓶汽水，剩四个空瓶再用三个空瓶换一瓶汽水，剩两个空瓶，向老板借一个空瓶再用三个空瓶换一瓶汽水喝完得一个空瓶还给老板\n",
    "- *我的解释*： 我认为题目不好，现实中老板不可能借给你一个空瓶子让自己损失一瓶汽水，故不作答"
   ],
   "metadata": {
    "collapsed": false
   }
  },
  {
   "cell_type": "markdown",
   "source": [
    "### HJ23 删除字符串中出现次数最少的字符（哈希）\n",
    "\n",
    "- *描述*: 实现删除字符串中出现次数最少的字符，若出现次数最少的字符有多个，则把出现次数最少的字符都删除。输出删除这些单词后的字符串，字符串中其它字符保持原来的顺序。\n",
    "- *输入描述*：字符串只包含小写英文字母，不考虑非法输入，输入字符串小于等于20字节\n",
    "- *输出描述*：删除字符串中出现次数最少的字符后的字符串"
   ],
   "metadata": {
    "collapsed": false
   }
  },
  {
   "cell_type": "code",
   "execution_count": 14,
   "outputs": [
    {
     "name": "stdout",
     "output_type": "stream",
     "text": [
      "aaddd\n"
     ]
    }
   ],
   "source": [
    "while True:\n",
    "    try:\n",
    "        str = input()\n",
    "        temp = {}\n",
    "        res = ''\n",
    "        for item in str:\n",
    "            if item not in temp:\n",
    "                temp[item] = 1\n",
    "            else:\n",
    "                temp[item] += 1\n",
    "        occurence = min(temp.values())\n",
    "\n",
    "        for item in str:\n",
    "            if temp[item] != occurence:\n",
    "                res += item\n",
    "        print(res)\n",
    "\n",
    "    except:\n",
    "        break"
   ],
   "metadata": {
    "collapsed": false,
    "pycharm": {
     "name": "#%%\n"
    }
   }
  }
 ],
 "metadata": {
  "kernelspec": {
   "display_name": "Python 3",
   "language": "python",
   "name": "python3"
  },
  "language_info": {
   "codemirror_mode": {
    "name": "ipython",
    "version": 2
   },
   "file_extension": ".py",
   "mimetype": "text/x-python",
   "name": "python",
   "nbconvert_exporter": "python",
   "pygments_lexer": "ipython2",
   "version": "2.7.6"
  }
 },
 "nbformat": 4,
 "nbformat_minor": 0
}