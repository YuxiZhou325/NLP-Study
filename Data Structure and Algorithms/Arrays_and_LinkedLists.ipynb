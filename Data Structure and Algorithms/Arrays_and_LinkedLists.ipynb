{
 "cells": [
  {
   "cell_type": "markdown",
   "metadata": {
    "collapsed": true,
    "pycharm": {
     "name": "#%% md\n"
    }
   },
   "source": [
    "<H1>Notes for Arrays and Linked List</h1>\n",
    "\n",
    "> Author: Yuxi Zhou\n",
    "> Start Date: 2022-04-21 20:59:44\n"
   ]
  },
  {
   "cell_type": "markdown",
   "source": [
    "<h2>Arrays</h2>"
   ],
   "metadata": {
    "collapsed": false
   }
  },
  {
   "cell_type": "markdown",
   "source": [
    "\n",
    "- ordered sequence of elements\n",
    "- set of variables (components, or subscript variables)\n",
    "- Python **does not have** build in support for arrays\n",
    "- Python use list instead\n",
    "- import Numpy library or similar"
   ],
   "metadata": {
    "collapsed": false
   }
  },
  {
   "cell_type": "markdown",
   "source": [
    "\n",
    "> <h3>Python List vs. Numpy Arrays</h3>\n",
    ">\n",
    "> Numpy (Links to an external site.) is the core library for scientific computing in Python. It provides a high-performance multidimensional array object, and tools for working with these arrays. A numpy array is a grid of values, all of the same type, and is indexed by a tuple of nonnegative integers. The number of dimensions is the rank of the array; the shape of an array is a tuple of integers giving the size of the array along each dimension.\n",
    ">\n",
    "> The Python core library provided Lists. A list is the Python equivalent of an array, but is resizeable and can contain elements of different types.\n",
    "- **Size**: Numpy data structures take less space\n",
    "- **Performance**: Numpy data faster than Python Lists\n",
    "- **Functionality**: SciPy and NumPy have optimized functions such as linear algebra operations build in\n",
    "> The main benefits of using NumPy arrays should be smaller memory consumption and better runtime behavior.\n",
    "\n",
    "> <h3>Python Lists</h3>\n",
    ">\n",
    "> for every new element, we need another 8 bytes for the reference to the new object\n",
    "> the new object itself consumes 28 bytes\n",
    "> *size of Python List = 64 + 8 * len(list) + 28 * len(list)*\n",
    "> [<img src=\"list_structure.png\" width=\"400\">](list_structure.png)\n",
    "\n",
    "\n",
    "> <h3>Numpy Arrays</h3>\n",
    ">\n",
    "> a random integer array of length \"n\" in Numpy needs\n",
    "> *96 + n * 8 bytes*\n",
    "> [<img src=\"array_structure.png\" width=\"400\">](array_structure.png)\n",
    "\n",
    "<br>\n",
    "\n",
    "### Reference ###\n",
    "[Python List vs. Numpy Arrays](https://webcourses.ucf.edu/courses/1249560/pages/python-lists-vs-numpy-arrays-what-is-the-difference)"
   ],
   "metadata": {
    "collapsed": false
   }
  },
  {
   "cell_type": "code",
   "execution_count": null,
   "outputs": [],
   "source": [
    "# This shows the performance numbers between Python List and Numpy\n",
    "\n",
    "import time\n",
    "import numpy as np\n",
    "from timeit import Timer\n",
    "\n",
    "size_of_vec = 1000\n",
    "\n",
    "def pure_python_version():\n",
    "    t1 = time.time()\n",
    "    X = range(size_of_vec)\n",
    "    Y = range(size_of_vec)\n",
    "    Z = [X[i] + Y[i] for i in range(len(X)) ]\n",
    "    return time.time() - t1\n",
    "\n",
    "def numpy_version():\n",
    "    t1 = time.time()\n",
    "    X = np.arange(size_of_vec)\n",
    "    Y = np.arange(size_of_vec)\n",
    "    Z = X + Y\n",
    "    return time.time() - t1\n",
    "\n",
    "\n",
    "t1 = pure_python_version()\n",
    "t2 = numpy_version()\n",
    "print(t1, t2)\n",
    "print(\"Numpy is in this example \" + str(t1/t2) + \" faster!\")\n",
    "\n",
    "# -------------------------------------------------------------------- #\n",
    "X_list = range(size_of_vec)\n",
    "Y_list = range(size_of_vec)\n",
    "X = np.arange(size_of_vec)\n",
    "Y = np.arange(size_of_vec)\n",
    "\n",
    "def pure_python_version():\n",
    "    Z = [X_list[i] + Y_list[i] for i in range(len(X_list)) ]\n",
    "\n",
    "def numpy_version():\n",
    "    Z = X + Y\n",
    "\n",
    "timer_obj1 = Timer(\"pure_python_version()\",\n",
    "                   \"from __main__ import pure_python_version\")\n",
    "timer_obj2 = Timer(\"numpy_version()\",\n",
    "                   \"from __main__ import numpy_version\")\n",
    "\n",
    "print(timer_obj1.timeit(10))\n",
    "print(timer_obj2.timeit(10))  # Runs Faster!\n",
    "\n",
    "print(timer_obj1.repeat(repeat=3, number=10))\n",
    "print(timer_obj2.repeat(repeat=3, number=10)) # repeat to prove it!"
   ],
   "metadata": {
    "collapsed": false,
    "pycharm": {
     "name": "#%%\n"
    }
   }
  },
  {
   "cell_type": "markdown",
   "source": [
    "| method      | description                                                      |\n",
    "|-------------|------------------------------------------------------------------|\n",
    "| `for in`    | loop to iterate the array                                        |\n",
    "| `append()`  | to add elements to the end of the element                        |\n",
    "| `instert()` | to add elements at certain position                              |\n",
    "| `pop()`     | to delete one element at certain position                        |\n",
    "| `remove()`  | to delete the first occurrance of an particular element          |\n",
    "| `clear()`   | to delete all elements                                           |\n",
    "| `copy()`    | to return a copy of array                                        |\n",
    "| `count()`   | to return the occurrance of a certain element                    |\n",
    "| `extend()`  | to add a list (or any iterrable item) to the end of current list |\n",
    "| `index()`   | to return the index of the first occurrance of a certain element |\n",
    "| `reverse()` | to reverse the order of the array (list)                         |\n",
    "| `sort()`    | to sort the array (list)                                         |\n"
   ],
   "metadata": {
    "collapsed": false
   }
  },
  {
   "cell_type": "markdown",
   "source": [
    "<h2>Slicing in Python</h2>\n",
    "\n",
    "> All the ordered sequence can do slicing, this includes **list, string, tuple and array**\n",
    "\n",
    "syntax: **[start: end: step]**\n",
    "```\n",
    "a[start:stop]  # items start through stop-1\n",
    "a[start:]      # items start through the rest of the array\n",
    "a[:stop]       # items from the beginning through stop-1\n",
    "a[:]           # a copy of the whole array\n",
    "```\n",
    "\n",
    "> **start**: start of the index\n",
    "> **end**: end of the index\n",
    "> **step**: length of each step\n",
    "> - when positive number: **from left to right** to slice and take elements\n",
    "> - when negative number: **from right to left** to slice and take elements\n",
    "\n",
    "```\n",
    "a[-1]    # last item in the array\n",
    "a[-2:]   # last two items in the array\n",
    "a[:-2]   # everything except the last two items\n",
    "```\n",
    "\n",
    "```\n",
    "a[::-1]    # all items in the array, reversed\n",
    "a[1::-1]   # the first two items, reversed\n",
    "a[:-3:-1]  # the last two items, reversed\n",
    "a[-3::-1]  # everything except the last two items, reversed\n",
    "```\n",
    "\n",
    "``slice()`` function is equivalent to the syntax of using colon ``:`` inside the Python index operator ``[]``\n",
    "> ```\n",
    "> a[start:stop:step]\n",
    "> ```\n",
    "equivalent to\n",
    "> ```\n",
    "> a[slice(start,stop,step)]\n",
    "> ```\n",
    "\n",
    "\n",
    "**References**\n",
    "- [Understanding Slicing](https://stackoverflow.com/questions/509211/understanding-slicing)\n",
    "- [CSDN-List and Array Slicing](https://blog.csdn.net/guoyang768/article/details/84840658?ops_request_misc=%257B%2522request%255Fid%2522%253A%2522165169157116782388093759%2522%252C%2522scm%2522%253A%252220140713.130102334..%2522%257D&request_id=165169157116782388093759&biz_id=0&utm_medium=distribute.pc_search_result.none-task-blog-2~all~baidu_landing_v2~default-4-84840658.142^v9^control,157^v4^control&utm_term=%E6%95%B0%E7%BB%84%E5%88%87%E7%89%87&spm=1018.2226.3001.4187)\n"
   ],
   "metadata": {
    "collapsed": false
   }
  },
  {
   "cell_type": "markdown",
   "source": [],
   "metadata": {
    "collapsed": false
   }
  }
 ],
 "metadata": {
  "kernelspec": {
   "display_name": "Python 3",
   "language": "python",
   "name": "python3"
  },
  "language_info": {
   "codemirror_mode": {
    "name": "ipython",
    "version": 2
   },
   "file_extension": ".py",
   "mimetype": "text/x-python",
   "name": "python",
   "nbconvert_exporter": "python",
   "pygments_lexer": "ipython2",
   "version": "2.7.6"
  }
 },
 "nbformat": 4,
 "nbformat_minor": 0
}